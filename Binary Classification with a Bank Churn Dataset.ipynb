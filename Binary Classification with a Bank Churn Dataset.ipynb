{
 "cells": [
  {
   "cell_type": "markdown",
   "id": "bd42e017",
   "metadata": {},
   "source": [
    "### 1. Importing Libraries"
   ]
  },
  {
   "cell_type": "code",
   "execution_count": null,
   "id": "34a4b766",
   "metadata": {},
   "outputs": [],
   "source": [
    "import pandas as pd\n",
    "from sklearn.model_selection import train_test_split, RandomizedSearchCV, cross_val_score\n",
    "from sklearn.preprocessing import StandardScaler, OneHotEncoder\n",
    "from sklearn.compose import ColumnTransformer\n",
    "from sklearn.pipeline import Pipeline\n",
    "from sklearn.ensemble import RandomForestClassifier\n",
    "from xgboost import XGBClassifier\n",
    "from scipy.stats import randint, uniform\n"
   ]
  },
  {
   "cell_type": "markdown",
   "id": "39a02c55",
   "metadata": {},
   "source": [
    "### 2. Loading and Preprocessing Data"
   ]
  },
  {
   "cell_type": "code",
   "execution_count": null,
   "id": "1b75bbf0",
   "metadata": {},
   "outputs": [],
   "source": [
    "train_data = pd.read_csv(\"train.csv\")\n",
    "train_data = train_data.drop(columns=['CustomerId', 'Surname'])\n",
    "\n",
    "\n",
    "X_train = train_data.drop(columns=['Exited'])\n",
    "y_train = train_data['Exited']\n"
   ]
  },
  {
   "cell_type": "code",
   "execution_count": null,
   "id": "0d17269a",
   "metadata": {},
   "outputs": [],
   "source": [
    "train_data.head(2)"
   ]
  },
  {
   "cell_type": "markdown",
   "id": "5738dee1",
   "metadata": {},
   "source": [
    "### 3. Preprocessing Steps"
   ]
  },
  {
   "cell_type": "code",
   "execution_count": null,
   "id": "df5da0bb",
   "metadata": {},
   "outputs": [],
   "source": [
    "numeric_features = ['CreditScore', 'Age', 'Tenure', 'Balance', 'NumOfProducts', 'EstimatedSalary']\n",
    "categorical_features = ['Geography', 'Gender', 'HasCrCard', 'IsActiveMember']\n",
    "\n",
    "numeric_transformer = Pipeline(steps=[\n",
    "    ('scaler', StandardScaler())\n",
    "])\n",
    "\n",
    "categorical_transformer = Pipeline(steps=[\n",
    "    ('onehot', OneHotEncoder(handle_unknown='ignore'))\n",
    "])\n",
    "\n",
    "preprocessor = ColumnTransformer(\n",
    "    transformers=[\n",
    "        ('num', numeric_transformer, numeric_features),\n",
    "        ('cat', categorical_transformer, categorical_features)\n",
    "    ])\n"
   ]
  },
  {
   "cell_type": "markdown",
   "id": "55f5dbf3",
   "metadata": {},
   "source": [
    "### 4. Hyperparameter Tuning for RandomForest"
   ]
  },
  {
   "cell_type": "code",
   "execution_count": null,
   "id": "1376e1fb",
   "metadata": {},
   "outputs": [],
   "source": [
    "param_dist_rf = {\n",
    "    'classifier__n_estimators': randint(50, 200),\n",
    "    'classifier__max_depth': [None, 10, 20, 30, 40, 50],\n",
    "    'classifier__min_samples_split': randint(2, 20),\n",
    "}\n",
    "\n",
    "rf_model = RandomForestClassifier(random_state=42)\n",
    "rf_pipeline = Pipeline(steps=[('preprocessor', preprocessor),\n",
    "                                ('classifier', rf_model)])\n",
    "\n",
    "rf_random = RandomizedSearchCV(rf_pipeline, param_distributions=param_dist_rf, n_iter=10, cv=5, scoring='accuracy', random_state=42)\n",
    "rf_random.fit(X_train, y_train)\n",
    "best_rf_model = rf_random.best_estimator_\n"
   ]
  },
  {
   "cell_type": "markdown",
   "id": "44f89f30",
   "metadata": {},
   "source": [
    "### 5. Hyperparameter Tuning for XGBoost"
   ]
  },
  {
   "cell_type": "code",
   "execution_count": null,
   "id": "2d29a633",
   "metadata": {},
   "outputs": [],
   "source": [
    "param_dist_xgb = {\n",
    "    'classifier__n_estimators': randint(50, 200),\n",
    "    'classifier__max_depth': [3, 5, 7, 9],\n",
    "    'classifier__learning_rate': uniform(0.01, 0.2),\n",
    "}\n",
    "\n",
    "xgb_model = XGBClassifier(random_state=42)\n",
    "xgb_pipeline = Pipeline(steps=[('preprocessor', preprocessor),\n",
    "                                 ('classifier', xgb_model)])\n",
    "\n",
    "xgb_random = RandomizedSearchCV(xgb_pipeline, param_distributions=param_dist_xgb, n_iter=10, cv=5, scoring='accuracy', random_state=42)\n",
    "xgb_random.fit(X_train, y_train)\n",
    "best_xgb_model = xgb_random.best_estimator_\n"
   ]
  },
  {
   "cell_type": "markdown",
   "id": "32548271",
   "metadata": {},
   "source": [
    "### 6. Evaluating Models"
   ]
  },
  {
   "cell_type": "code",
   "execution_count": null,
   "id": "acb1dda3",
   "metadata": {},
   "outputs": [],
   "source": [
    "models = [\n",
    "    ('RandomForest', best_rf_model),\n",
    "    ('XGBoost', best_xgb_model)\n",
    "]\n",
    "\n",
    "for name, model in models:\n",
    "    scores = cross_val_score(model, X_train, y_train, cv=5, scoring='accuracy')\n",
    "    print(f'{name} - Accuracy: {scores.mean()} (Std: {scores.std()})')\n"
   ]
  },
  {
   "cell_type": "code",
   "execution_count": null,
   "id": "f37668b5",
   "metadata": {},
   "outputs": [],
   "source": [
    "best_model = best_xgb_model['classifier']  # Access the classifier part of the pipeline\n",
    "full_pipeline = Pipeline(steps=[('preprocessor', preprocessor),\n",
    "                                 ('classifier', best_model)])\n",
    "full_pipeline.fit(X_train, y_train)\n",
    "\n",
    "import joblib\n",
    "# Save the trained model using joblib\n",
    "joblib.dump(full_pipeline, 'trained_model.joblib')"
   ]
  },
  {
   "cell_type": "code",
   "execution_count": null,
   "id": "72a45718",
   "metadata": {},
   "outputs": [],
   "source": [
    "import pandas as pd\n",
    "import joblib\n",
    "\n",
    "\n",
    "test_data = pd.read_csv(\"test.csv\")  \n",
    "\n",
    "\n",
    "test_ids = test_data['id']\n",
    "\n",
    "\n",
    "test_data = test_data.drop(columns=['CustomerId', 'Surname', 'id'])\n",
    "\n",
    "\n",
    "\n",
    "X_test = test_data\n",
    "\n",
    "\n",
    "loaded_model = joblib.load('trained_model.joblib')\n",
    "\n",
    "\n",
    "test_probabilities = loaded_model.predict_proba(X_test)[:, 1]\n",
    "\n",
    "\n",
    "test_result_df = pd.DataFrame({'id': test_ids, 'Exited': test_probabilities})\n",
    "\n",
    "\n",
    "test_result_df.to_csv('sample_submission.csv', index=False)"
   ]
  },
  {
   "cell_type": "code",
   "execution_count": null,
   "id": "e1ebc5c0",
   "metadata": {},
   "outputs": [],
   "source": []
  }
 ],
 "metadata": {
  "kernelspec": {
   "display_name": "Python 3 (ipykernel)",
   "language": "python",
   "name": "python3"
  },
  "language_info": {
   "codemirror_mode": {
    "name": "ipython",
    "version": 3
   },
   "file_extension": ".py",
   "mimetype": "text/x-python",
   "name": "python",
   "nbconvert_exporter": "python",
   "pygments_lexer": "ipython3",
   "version": "3.12.7"
  }
 },
 "nbformat": 4,
 "nbformat_minor": 5
}
