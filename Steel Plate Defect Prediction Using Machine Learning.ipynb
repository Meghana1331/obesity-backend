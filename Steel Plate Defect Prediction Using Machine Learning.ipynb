{
 "cells": [
  {
   "cell_type": "code",
   "execution_count": null,
   "id": "6afdd6ea",
   "metadata": {},
   "outputs": [],
   "source": [
    "import pandas as pd\n",
    "from sklearn.model_selection import cross_val_score\n",
    "from sklearn.ensemble import RandomForestClassifier, ExtraTreesClassifier\n",
    "from sklearn.multioutput import MultiOutputClassifier\n",
    "from lightgbm import LGBMClassifier\n",
    "from xgboost import XGBClassifier\n",
    "from catboost import CatBoostClassifier\n",
    "import joblib"
   ]
  },
  {
   "cell_type": "code",
   "execution_count": null,
   "id": "af536f4d",
   "metadata": {},
   "outputs": [],
   "source": [
    "# Load data\n",
    "train_data = pd.read_csv('train.csv')\n",
    "test_data = pd.read_csv('test.csv')"
   ]
  },
  {
   "cell_type": "code",
   "execution_count": null,
   "id": "e782ecb4",
   "metadata": {},
   "outputs": [],
   "source": [
    "# Split data into features and targets\n",
    "X_train = train_data.drop(['id', 'Pastry', 'Z_Scratch', 'K_Scatch', 'Stains',\n",
    "                           'Dirtiness', 'Bumps', 'Other_Faults'], axis=1)\n",
    "y_train = train_data[['Pastry', 'Z_Scratch', 'K_Scatch', 'Stains',\n",
    "                      'Dirtiness', 'Bumps', 'Other_Faults']]"
   ]
  },
  {
   "cell_type": "code",
   "execution_count": null,
   "id": "ada8295f",
   "metadata": {},
   "outputs": [],
   "source": [
    "y_train.head()"
   ]
  },
  {
   "cell_type": "code",
   "execution_count": null,
   "id": "a938ace8",
   "metadata": {},
   "outputs": [],
   "source": [
    "test_ids = test_data['id']\n",
    "test_features = test_data.drop('id', axis=1)"
   ]
  },
  {
   "cell_type": "code",
   "execution_count": null,
   "id": "a434be7e",
   "metadata": {},
   "outputs": [],
   "source": [
    "# Initialize classifiers\n",
    "rf_classifier = RandomForestClassifier()\n",
    "lgbm_classifier = LGBMClassifier()\n",
    "xgb_classifier = XGBClassifier()\n",
    "catboost_classifier = CatBoostClassifier()\n",
    "extratrees_classifier = ExtraTreesClassifier()"
   ]
  },
  {
   "cell_type": "code",
   "execution_count": null,
   "id": "d52cf54e",
   "metadata": {},
   "outputs": [],
   "source": [
    "# Initialize multi-output classifiers\n",
    "rf_multi_classifier = MultiOutputClassifier(rf_classifier, \n",
    "                                            n_jobs=-1)\n",
    "lgbm_multi_classifier = MultiOutputClassifier(lgbm_classifier, \n",
    "                                              n_jobs=-1)\n",
    "xgb_multi_classifier = MultiOutputClassifier(xgb_classifier, \n",
    "                                             n_jobs=-1)\n",
    "catboost_multi_classifier = MultiOutputClassifier(catboost_classifier, \n",
    "                                                  n_jobs=-1)\n",
    "extratrees_multi_classifier = MultiOutputClassifier(extratrees_classifier, \n",
    "                                                    n_jobs=-1)"
   ]
  },
  {
   "cell_type": "code",
   "execution_count": null,
   "id": "7db94524",
   "metadata": {},
   "outputs": [],
   "source": [
    "# Perform cross-validation to evaluate models\n",
    "rf_cv_scores = cross_val_score(rf_multi_classifier, X_train, y_train, \n",
    "                               cv=5, scoring='accuracy')\n",
    "lgbm_cv_scores = cross_val_score(lgbm_multi_classifier, X_train, y_train, \n",
    "                                 cv=5, scoring='accuracy')\n",
    "xgb_cv_scores = cross_val_score(xgb_multi_classifier, X_train, y_train, \n",
    "                                cv=5, scoring='accuracy')\n",
    "catboost_cv_scores = cross_val_score(catboost_multi_classifier, X_train, y_train, \n",
    "                                     cv=5, scoring='accuracy')\n",
    "extratrees_cv_scores = cross_val_score(extratrees_multi_classifier, X_train, y_train, \n",
    "                                       cv=5, scoring='accuracy')"
   ]
  },
  {
   "cell_type": "code",
   "execution_count": null,
   "id": "a3e15eef",
   "metadata": {},
   "outputs": [],
   "source": [
    "# Print mean cross-validation scores\n",
    "print(\"Random Forest CV Accuracy:\", rf_cv_scores.mean())\n",
    "print(\"LightGBM CV Accuracy:\", lgbm_cv_scores.mean())\n",
    "print(\"XGBoost CV Accuracy:\", xgb_cv_scores.mean())\n",
    "print(\"CatBoost CV Accuracy:\", catboost_cv_scores.mean())\n",
    "print(\"ExtraTrees CV Accuracy:\", extratrees_cv_scores.mean())"
   ]
  },
  {
   "cell_type": "code",
   "execution_count": null,
   "id": "be78c782",
   "metadata": {},
   "outputs": [],
   "source": [
    "# Choose the best model\n",
    "best_model = max([\n",
    "    (rf_cv_scores.mean(), 'Random Forest'),\n",
    "    (lgbm_cv_scores.mean(), 'LightGBM'),\n",
    "    (xgb_cv_scores.mean(), 'XGBoost'),\n",
    "    (catboost_cv_scores.mean(), 'CatBoost'),\n",
    "    (extratrees_cv_scores.mean(), 'ExtraTrees')\n",
    "])\n",
    "\n",
    "print(\"Best Model:\", best_model[1])"
   ]
  },
  {
   "cell_type": "code",
   "execution_count": null,
   "id": "683b26cf",
   "metadata": {},
   "outputs": [],
   "source": [
    "# Train the best model on the entire training data\n",
    "best_classifier = None\n",
    "if best_model[1] == 'Random Forest':\n",
    "    best_classifier = rf_multi_classifier.fit(X_train, y_train)\n",
    "elif best_model[1] == 'LightGBM':\n",
    "    best_classifier = lgbm_multi_classifier.fit(X_train, y_train)\n",
    "elif best_model[1] == 'XGBoost':\n",
    "    best_classifier = xgb_multi_classifier.fit(X_train, y_train)\n",
    "elif best_model[1] == 'CatBoost':\n",
    "    best_classifier = catboost_multi_classifier.fit(X_train, y_train)\n",
    "elif best_model[1] == 'ExtraTrees':\n",
    "    best_classifier = extratrees_multi_classifier.fit(X_train, y_train)"
   ]
  },
  {
   "cell_type": "code",
   "execution_count": null,
   "id": "a968b9dd",
   "metadata": {},
   "outputs": [],
   "source": [
    "# Save the best model\n",
    "model = joblib.dump(best_classifier, 'best_model.joblib')"
   ]
  },
  {
   "cell_type": "code",
   "execution_count": null,
   "id": "3c5007f7",
   "metadata": {},
   "outputs": [],
   "source": [
    "# Make predictions\n",
    "best_test_probs = best_classifier.predict_proba(test_features)"
   ]
  },
  {
   "cell_type": "code",
   "execution_count": null,
   "id": "c78ad679",
   "metadata": {},
   "outputs": [],
   "source": [
    "best_test_probs"
   ]
  },
  {
   "cell_type": "code",
   "execution_count": null,
   "id": "55a88640",
   "metadata": {},
   "outputs": [],
   "source": [
    "# Generate submission file\n",
    "submission_df = pd.DataFrame({'id': test_ids})\n",
    "# Iterate over each target\n",
    "for i, target in enumerate(y_train.columns):\n",
    "    # Fetch the probability of the positive class for each target\n",
    "    # Store the positive probabilities in the respective target column\n",
    "    submission_df[target] = best_test_probs[i][:, 1]  # Probability of positive class\n",
    "\n",
    "submission_df.to_csv('submission.csv', index=False)"
   ]
  },
  {
   "cell_type": "code",
   "execution_count": null,
   "id": "979ca7a9",
   "metadata": {},
   "outputs": [],
   "source": [
    "import time\n",
    "# Generate submission file\n",
    "submission_df = pd.DataFrame({'id': test_ids})\n",
    "# Iterate over each target\n",
    "for i, target in enumerate(y_train.columns):\n",
    "    # Fetch the probability of the positive class for each target\n",
    "    # Store the positive probabilities in the respective target column\n",
    "    submission_df[target] = best_test_probs[i][:, 1]  # Probability of positive class\n",
    "    time.sleep(6)\n",
    "    print(submission_df) \n",
    "submission_df.to_csv('submission.csv', index=False)"
   ]
  },
  {
   "cell_type": "code",
   "execution_count": null,
   "id": "14186fc1",
   "metadata": {},
   "outputs": [],
   "source": [
    "y_train.columns"
   ]
  },
  {
   "cell_type": "code",
   "execution_count": null,
   "id": "58c68da7",
   "metadata": {},
   "outputs": [],
   "source": [
    "import tkinter as tk\n",
    "from tkinter import filedialog, messagebox\n",
    "import pandas as pd\n",
    "from sklearn.multioutput import MultiOutputClassifier\n",
    "from catboost import CatBoostClassifier\n",
    "\n",
    "def load_train_file():\n",
    "    train_file = filedialog.askopenfilename(title=\"Select Train File\")\n",
    "    if train_file:\n",
    "        train_entry.delete(0, tk.END)\n",
    "        train_entry.insert(0, train_file)\n",
    "        messagebox.showinfo(\"File Loaded\", \"Train file loaded successfully!\")\n",
    "    else:\n",
    "        messagebox.showerror(\"Error\", \"Please select a train file.\")\n",
    "\n",
    "def load_test_file():\n",
    "    test_file = filedialog.askopenfilename(title=\"Select Test File\")\n",
    "    if test_file:\n",
    "        test_entry.delete(0, tk.END)\n",
    "        test_entry.insert(0, test_file)\n",
    "        messagebox.showinfo(\"File Loaded\", \"Test file loaded successfully!\")\n",
    "    else:\n",
    "        messagebox.showerror(\"Error\", \"Please select a test file.\")\n",
    "\n",
    "def train_and_predict():\n",
    "    train_file = train_entry.get()\n",
    "    test_file = test_entry.get()\n",
    "    \n",
    "    if not train_file or not test_file:\n",
    "        messagebox.showerror(\"Error\", \"Please select both train and test files.\")\n",
    "        return\n",
    "    \n",
    "    train_data = pd.read_csv(train_file)\n",
    "    test_data = pd.read_csv(test_file)\n",
    "    \n",
    "    X_train = train_data.drop(['id', 'Pastry', 'Z_Scratch', 'K_Scatch', 'Stains',\n",
    "                               'Dirtiness', 'Bumps', 'Other_Faults'], axis=1)\n",
    "    y_train = train_data[['Pastry', 'Z_Scratch', 'K_Scatch', 'Stains',\n",
    "                          'Dirtiness', 'Bumps', 'Other_Faults']]\n",
    "    \n",
    "    catboost_classifier = CatBoostClassifier()\n",
    "\n",
    "    best_model = MultiOutputClassifier(catboost_classifier, n_jobs=-1).fit(X_train, y_train)\n",
    "\n",
    "    test_ids = test_data['id']\n",
    "    test_features = test_data.drop('id', axis=1)\n",
    "    best_test_probs = best_model.predict_proba(test_features)\n",
    "\n",
    "    submission_df = pd.DataFrame({'id': test_ids})\n",
    "    for i, target in enumerate(train_data[['Pastry', 'Z_Scratch', 'K_Scatch', 'Stains', 'Dirtiness', 'Bumps', 'Other_Faults']].columns):\n",
    "        submission_df[target] = best_test_probs[i][:, 1]\n",
    "\n",
    "    submission_df.to_csv('submission.csv', index=False)\n",
    "    messagebox.showinfo(\"Info\", \"Prediction completed and submission file generated!\")\n",
    "\n",
    "root = tk.Tk()\n",
    "root.title(\"Fault Classification Model\")\n",
    "\n",
    "train_frame = tk.Frame(root)\n",
    "train_frame.pack(pady=10)\n",
    "\n",
    "train_label = tk.Label(train_frame, text=\"Train File:\")\n",
    "train_label.grid(row=0, column=0, padx=5, pady=5)\n",
    "\n",
    "train_entry = tk.Entry(train_frame, width=40)\n",
    "train_entry.grid(row=0, column=1, padx=5, pady=5)\n",
    "\n",
    "train_button = tk.Button(train_frame, text=\"Browse\", command=load_train_file)\n",
    "train_button.grid(row=0, column=2, padx=5, pady=5)\n",
    "\n",
    "test_frame = tk.Frame(root)\n",
    "test_frame.pack(pady=10)\n",
    "\n",
    "test_label = tk.Label(test_frame, text=\"Test File:\")\n",
    "test_label.grid(row=0, column=0, padx=5, pady=5)\n",
    "\n",
    "test_entry = tk.Entry(test_frame, width=40)\n",
    "test_entry.grid(row=0, column=1, padx=5, pady=5)\n",
    "\n",
    "test_button = tk.Button(test_frame, text=\"Browse\", command=load_test_file)\n",
    "test_button.grid(row=0, column=2, padx=5, pady=5)\n",
    "\n",
    "predict_button = tk.Button(root, text=\"Predict\", command=train_and_predict)\n",
    "predict_button.pack(pady=5)\n",
    "\n",
    "root.mainloop()\n"
   ]
  },
  {
   "cell_type": "code",
   "execution_count": null,
   "id": "ada92443",
   "metadata": {},
   "outputs": [],
   "source": []
  }
 ],
 "metadata": {
  "kernelspec": {
   "display_name": "Python 3 (ipykernel)",
   "language": "python",
   "name": "python3"
  },
  "language_info": {
   "codemirror_mode": {
    "name": "ipython",
    "version": 3
   },
   "file_extension": ".py",
   "mimetype": "text/x-python",
   "name": "python",
   "nbconvert_exporter": "python",
   "pygments_lexer": "ipython3",
   "version": "3.12.7"
  }
 },
 "nbformat": 4,
 "nbformat_minor": 5
}
